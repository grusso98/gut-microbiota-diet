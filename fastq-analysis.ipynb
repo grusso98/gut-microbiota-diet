{
 "cells": [
  {
   "attachments": {},
   "cell_type": "markdown",
   "metadata": {},
   "source": [
    "## Manifest and Metadata Creation"
   ]
  },
  {
   "cell_type": "code",
   "execution_count": 28,
   "metadata": {},
   "outputs": [],
   "source": [
    "import pandas as pd \n",
    "import numpy as np"
   ]
  },
  {
   "cell_type": "code",
   "execution_count": 31,
   "metadata": {},
   "outputs": [
    {
     "name": "stdout",
     "output_type": "stream",
     "text": [
      "(279, 10)\n"
     ]
    },
    {
     "data": {
      "text/plain": [
       "Index(['Unnamed: 0', 'sample_name', 'age_years', 'age_cat', 'sex',\n",
       "       'specialized_diet_exclude_dairy',\n",
       "       'specialized_diet_exclude_refined_sugars', 'body_site',\n",
       "       'specialized_diet_i_do_not_eat_a_specialized_diet',\n",
       "       'specialized_diet_paleodiet_or_primal_diet'],\n",
       "      dtype='object')"
      ]
     },
     "execution_count": 31,
     "metadata": {},
     "output_type": "execute_result"
    }
   ],
   "source": [
    "manifest = pd.read_csv('ref_sugar_sample.csv')\n",
    "print(manifest.shape)\n",
    "manifest.columns"
   ]
  },
  {
   "cell_type": "code",
   "execution_count": 32,
   "metadata": {},
   "outputs": [],
   "source": [
    "sample_no_fastq = ['10317.000051146',\n",
    " '10317.000058813',\n",
    " '10317.000058966',\n",
    " '10317.000059165',\n",
    " '10317.000066514',\n",
    " '10317.000110719',\n",
    " '10317.000110720',\n",
    " '10317.000110721',\n",
    " '10317.000110722']"
   ]
  },
  {
   "cell_type": "code",
   "execution_count": 33,
   "metadata": {},
   "outputs": [],
   "source": [
    "manifest = manifest.loc[~manifest.sample_name.isin(sample_no_fastq)]"
   ]
  },
  {
   "cell_type": "code",
   "execution_count": 34,
   "metadata": {},
   "outputs": [
    {
     "data": {
      "text/html": [
       "<div>\n",
       "<style scoped>\n",
       "    .dataframe tbody tr th:only-of-type {\n",
       "        vertical-align: middle;\n",
       "    }\n",
       "\n",
       "    .dataframe tbody tr th {\n",
       "        vertical-align: top;\n",
       "    }\n",
       "\n",
       "    .dataframe thead th {\n",
       "        text-align: right;\n",
       "    }\n",
       "</style>\n",
       "<table border=\"1\" class=\"dataframe\">\n",
       "  <thead>\n",
       "    <tr style=\"text-align: right;\">\n",
       "      <th></th>\n",
       "      <th>Unnamed: 0</th>\n",
       "      <th>sample_name</th>\n",
       "      <th>age_years</th>\n",
       "      <th>age_cat</th>\n",
       "      <th>sex</th>\n",
       "      <th>specialized_diet_exclude_dairy</th>\n",
       "      <th>specialized_diet_exclude_refined_sugars</th>\n",
       "      <th>body_site</th>\n",
       "      <th>specialized_diet_i_do_not_eat_a_specialized_diet</th>\n",
       "      <th>specialized_diet_paleodiet_or_primal_diet</th>\n",
       "    </tr>\n",
       "  </thead>\n",
       "  <tbody>\n",
       "    <tr>\n",
       "      <th>0</th>\n",
       "      <td>6610</td>\n",
       "      <td>10317.000023</td>\n",
       "      <td>69</td>\n",
       "      <td>60s</td>\n",
       "      <td>female</td>\n",
       "      <td>No</td>\n",
       "      <td>Yes</td>\n",
       "      <td>UBERON:feces</td>\n",
       "      <td>No</td>\n",
       "      <td>No</td>\n",
       "    </tr>\n",
       "    <tr>\n",
       "      <th>1</th>\n",
       "      <td>6809</td>\n",
       "      <td>10317.000024</td>\n",
       "      <td>59</td>\n",
       "      <td>50s</td>\n",
       "      <td>male</td>\n",
       "      <td>No</td>\n",
       "      <td>Yes</td>\n",
       "      <td>UBERON:feces</td>\n",
       "      <td>No</td>\n",
       "      <td>No</td>\n",
       "    </tr>\n",
       "    <tr>\n",
       "      <th>2</th>\n",
       "      <td>8522</td>\n",
       "      <td>10317.000030</td>\n",
       "      <td>27</td>\n",
       "      <td>20s</td>\n",
       "      <td>male</td>\n",
       "      <td>No</td>\n",
       "      <td>Yes</td>\n",
       "      <td>UBERON:feces</td>\n",
       "      <td>No</td>\n",
       "      <td>Yes</td>\n",
       "    </tr>\n",
       "    <tr>\n",
       "      <th>3</th>\n",
       "      <td>9440</td>\n",
       "      <td>10317.000033</td>\n",
       "      <td>60</td>\n",
       "      <td>60s</td>\n",
       "      <td>female</td>\n",
       "      <td>No</td>\n",
       "      <td>Yes</td>\n",
       "      <td>UBERON:feces</td>\n",
       "      <td>No</td>\n",
       "      <td>No</td>\n",
       "    </tr>\n",
       "    <tr>\n",
       "      <th>4</th>\n",
       "      <td>9804</td>\n",
       "      <td>10317.000035</td>\n",
       "      <td>41</td>\n",
       "      <td>40s</td>\n",
       "      <td>female</td>\n",
       "      <td>No</td>\n",
       "      <td>Yes</td>\n",
       "      <td>UBERON:feces</td>\n",
       "      <td>No</td>\n",
       "      <td>Yes</td>\n",
       "    </tr>\n",
       "    <tr>\n",
       "      <th>...</th>\n",
       "      <td>...</td>\n",
       "      <td>...</td>\n",
       "      <td>...</td>\n",
       "      <td>...</td>\n",
       "      <td>...</td>\n",
       "      <td>...</td>\n",
       "      <td>...</td>\n",
       "      <td>...</td>\n",
       "      <td>...</td>\n",
       "      <td>...</td>\n",
       "    </tr>\n",
       "    <tr>\n",
       "      <th>274</th>\n",
       "      <td>25831</td>\n",
       "      <td>10317.000113</td>\n",
       "      <td>38</td>\n",
       "      <td>30s</td>\n",
       "      <td>male</td>\n",
       "      <td>No</td>\n",
       "      <td>Yes</td>\n",
       "      <td>UBERON:feces</td>\n",
       "      <td>Yes</td>\n",
       "      <td>No</td>\n",
       "    </tr>\n",
       "    <tr>\n",
       "      <th>275</th>\n",
       "      <td>25834</td>\n",
       "      <td>10317.000113</td>\n",
       "      <td>49</td>\n",
       "      <td>40s</td>\n",
       "      <td>female</td>\n",
       "      <td>No</td>\n",
       "      <td>Yes</td>\n",
       "      <td>UBERON:feces</td>\n",
       "      <td>No</td>\n",
       "      <td>No</td>\n",
       "    </tr>\n",
       "    <tr>\n",
       "      <th>276</th>\n",
       "      <td>26079</td>\n",
       "      <td>10317.000114</td>\n",
       "      <td>55</td>\n",
       "      <td>50s</td>\n",
       "      <td>male</td>\n",
       "      <td>No</td>\n",
       "      <td>Yes</td>\n",
       "      <td>UBERON:feces</td>\n",
       "      <td>No</td>\n",
       "      <td>No</td>\n",
       "    </tr>\n",
       "    <tr>\n",
       "      <th>277</th>\n",
       "      <td>26116</td>\n",
       "      <td>10317.000114</td>\n",
       "      <td>22</td>\n",
       "      <td>20s</td>\n",
       "      <td>male</td>\n",
       "      <td>No</td>\n",
       "      <td>Yes</td>\n",
       "      <td>UBERON:feces</td>\n",
       "      <td>No</td>\n",
       "      <td>No</td>\n",
       "    </tr>\n",
       "    <tr>\n",
       "      <th>278</th>\n",
       "      <td>26302</td>\n",
       "      <td>10317.000115</td>\n",
       "      <td>27</td>\n",
       "      <td>20s</td>\n",
       "      <td>male</td>\n",
       "      <td>No</td>\n",
       "      <td>Yes</td>\n",
       "      <td>UBERON:feces</td>\n",
       "      <td>Yes</td>\n",
       "      <td>No</td>\n",
       "    </tr>\n",
       "  </tbody>\n",
       "</table>\n",
       "<p>279 rows × 10 columns</p>\n",
       "</div>"
      ],
      "text/plain": [
       "     Unnamed: 0   sample_name  age_years age_cat     sex   \n",
       "0          6610  10317.000023         69     60s  female  \\\n",
       "1          6809  10317.000024         59     50s    male   \n",
       "2          8522  10317.000030         27     20s    male   \n",
       "3          9440  10317.000033         60     60s  female   \n",
       "4          9804  10317.000035         41     40s  female   \n",
       "..          ...           ...        ...     ...     ...   \n",
       "274       25831  10317.000113         38     30s    male   \n",
       "275       25834  10317.000113         49     40s  female   \n",
       "276       26079  10317.000114         55     50s    male   \n",
       "277       26116  10317.000114         22     20s    male   \n",
       "278       26302  10317.000115         27     20s    male   \n",
       "\n",
       "    specialized_diet_exclude_dairy specialized_diet_exclude_refined_sugars   \n",
       "0                               No                                     Yes  \\\n",
       "1                               No                                     Yes   \n",
       "2                               No                                     Yes   \n",
       "3                               No                                     Yes   \n",
       "4                               No                                     Yes   \n",
       "..                             ...                                     ...   \n",
       "274                             No                                     Yes   \n",
       "275                             No                                     Yes   \n",
       "276                             No                                     Yes   \n",
       "277                             No                                     Yes   \n",
       "278                             No                                     Yes   \n",
       "\n",
       "        body_site specialized_diet_i_do_not_eat_a_specialized_diet   \n",
       "0    UBERON:feces                                               No  \\\n",
       "1    UBERON:feces                                               No   \n",
       "2    UBERON:feces                                               No   \n",
       "3    UBERON:feces                                               No   \n",
       "4    UBERON:feces                                               No   \n",
       "..            ...                                              ...   \n",
       "274  UBERON:feces                                              Yes   \n",
       "275  UBERON:feces                                               No   \n",
       "276  UBERON:feces                                               No   \n",
       "277  UBERON:feces                                               No   \n",
       "278  UBERON:feces                                              Yes   \n",
       "\n",
       "    specialized_diet_paleodiet_or_primal_diet  \n",
       "0                                          No  \n",
       "1                                          No  \n",
       "2                                         Yes  \n",
       "3                                          No  \n",
       "4                                         Yes  \n",
       "..                                        ...  \n",
       "274                                        No  \n",
       "275                                        No  \n",
       "276                                        No  \n",
       "277                                        No  \n",
       "278                                        No  \n",
       "\n",
       "[279 rows x 10 columns]"
      ]
     },
     "execution_count": 34,
     "metadata": {},
     "output_type": "execute_result"
    }
   ],
   "source": [
    "manifest"
   ]
  },
  {
   "cell_type": "code",
   "execution_count": 35,
   "metadata": {},
   "outputs": [
    {
     "name": "stdout",
     "output_type": "stream",
     "text": [
      "279\n"
     ]
    }
   ],
   "source": [
    "print(manifest.sample_name.nunique())"
   ]
  },
  {
   "cell_type": "code",
   "execution_count": 39,
   "metadata": {},
   "outputs": [
    {
     "name": "stdout",
     "output_type": "stream",
     "text": [
      "268\n"
     ]
    }
   ],
   "source": [
    "run_ids = pd.read_csv('fastq_goodness.csv')\n",
    "run_ids.head(5)\n",
    "ids = run_ids['fastq_file']\n",
    "print(run_ids['fastq_file'].nunique())"
   ]
  },
  {
   "cell_type": "code",
   "execution_count": 37,
   "metadata": {},
   "outputs": [
    {
     "data": {
      "text/plain": [
       "0      ERR1842797.fastq\n",
       "1      ERR1842808.fastq\n",
       "2      ERR1842816.fastq\n",
       "3      ERR1842877.fastq\n",
       "4      ERR2032284.fastq\n",
       "             ...       \n",
       "263    ERR5337870.fastq\n",
       "264    ERR5342182.fastq\n",
       "265    ERR5342208.fastq\n",
       "266    ERR5342218.fastq\n",
       "267    ERR5342289.fastq\n",
       "Name: fastq_file, Length: 268, dtype: object"
      ]
     },
     "execution_count": 37,
     "metadata": {},
     "output_type": "execute_result"
    }
   ],
   "source": [
    "ids"
   ]
  },
  {
   "cell_type": "code",
   "execution_count": 38,
   "metadata": {},
   "outputs": [
    {
     "name": "stdout",
     "output_type": "stream",
     "text": [
      "(279, 11)\n"
     ]
    },
    {
     "data": {
      "text/html": [
       "<div>\n",
       "<style scoped>\n",
       "    .dataframe tbody tr th:only-of-type {\n",
       "        vertical-align: middle;\n",
       "    }\n",
       "\n",
       "    .dataframe tbody tr th {\n",
       "        vertical-align: top;\n",
       "    }\n",
       "\n",
       "    .dataframe thead th {\n",
       "        text-align: right;\n",
       "    }\n",
       "</style>\n",
       "<table border=\"1\" class=\"dataframe\">\n",
       "  <thead>\n",
       "    <tr style=\"text-align: right;\">\n",
       "      <th></th>\n",
       "      <th>sample-id</th>\n",
       "      <th>absolute-filepath</th>\n",
       "      <th>direction</th>\n",
       "    </tr>\n",
       "  </thead>\n",
       "  <tbody>\n",
       "    <tr>\n",
       "      <th>0</th>\n",
       "      <td>10317.000023</td>\n",
       "      <td>/c/Users/adm/Desktop/Bioscience/gut-microbiota...</td>\n",
       "      <td>forward</td>\n",
       "    </tr>\n",
       "    <tr>\n",
       "      <th>1</th>\n",
       "      <td>10317.000024</td>\n",
       "      <td>/c/Users/adm/Desktop/Bioscience/gut-microbiota...</td>\n",
       "      <td>forward</td>\n",
       "    </tr>\n",
       "    <tr>\n",
       "      <th>2</th>\n",
       "      <td>10317.000030</td>\n",
       "      <td>/c/Users/adm/Desktop/Bioscience/gut-microbiota...</td>\n",
       "      <td>forward</td>\n",
       "    </tr>\n",
       "    <tr>\n",
       "      <th>3</th>\n",
       "      <td>10317.000033</td>\n",
       "      <td>/c/Users/adm/Desktop/Bioscience/gut-microbiota...</td>\n",
       "      <td>forward</td>\n",
       "    </tr>\n",
       "    <tr>\n",
       "      <th>4</th>\n",
       "      <td>10317.000035</td>\n",
       "      <td>/c/Users/adm/Desktop/Bioscience/gut-microbiota...</td>\n",
       "      <td>forward</td>\n",
       "    </tr>\n",
       "    <tr>\n",
       "      <th>...</th>\n",
       "      <td>...</td>\n",
       "      <td>...</td>\n",
       "      <td>...</td>\n",
       "    </tr>\n",
       "    <tr>\n",
       "      <th>274</th>\n",
       "      <td>10317.000113</td>\n",
       "      <td>NaN</td>\n",
       "      <td>forward</td>\n",
       "    </tr>\n",
       "    <tr>\n",
       "      <th>275</th>\n",
       "      <td>10317.000113</td>\n",
       "      <td>NaN</td>\n",
       "      <td>forward</td>\n",
       "    </tr>\n",
       "    <tr>\n",
       "      <th>276</th>\n",
       "      <td>10317.000114</td>\n",
       "      <td>NaN</td>\n",
       "      <td>forward</td>\n",
       "    </tr>\n",
       "    <tr>\n",
       "      <th>277</th>\n",
       "      <td>10317.000114</td>\n",
       "      <td>NaN</td>\n",
       "      <td>forward</td>\n",
       "    </tr>\n",
       "    <tr>\n",
       "      <th>278</th>\n",
       "      <td>10317.000115</td>\n",
       "      <td>NaN</td>\n",
       "      <td>forward</td>\n",
       "    </tr>\n",
       "  </tbody>\n",
       "</table>\n",
       "<p>279 rows × 3 columns</p>\n",
       "</div>"
      ],
      "text/plain": [
       "        sample-id                                  absolute-filepath direction\n",
       "0    10317.000023  /c/Users/adm/Desktop/Bioscience/gut-microbiota...   forward\n",
       "1    10317.000024  /c/Users/adm/Desktop/Bioscience/gut-microbiota...   forward\n",
       "2    10317.000030  /c/Users/adm/Desktop/Bioscience/gut-microbiota...   forward\n",
       "3    10317.000033  /c/Users/adm/Desktop/Bioscience/gut-microbiota...   forward\n",
       "4    10317.000035  /c/Users/adm/Desktop/Bioscience/gut-microbiota...   forward\n",
       "..            ...                                                ...       ...\n",
       "274  10317.000113                                                NaN   forward\n",
       "275  10317.000113                                                NaN   forward\n",
       "276  10317.000114                                                NaN   forward\n",
       "277  10317.000114                                                NaN   forward\n",
       "278  10317.000115                                                NaN   forward\n",
       "\n",
       "[279 rows x 3 columns]"
      ]
     },
     "execution_count": 38,
     "metadata": {},
     "output_type": "execute_result"
    }
   ],
   "source": [
    "manifest['sample-id'] = manifest.sample_name\n",
    "\n",
    "print(manifest.shape)\n",
    "\n",
    "# Costruiamo e teniamo solo le colonne che ci servono\n",
    "manifest['run_ids'] = ids\n",
    "manifest['absolute-filepath'] = '/c/Users/adm/Desktop/Bioscience/gut-microbiota-diet/fastq/goodReads_20/good_20_'+ manifest['run_ids']\n",
    "manifest['direction'] = 'forward'\n",
    "\n",
    "manifest = manifest[['sample-id', 'absolute-filepath', 'direction']]\n",
    "\n",
    "# Scriviamo il csv\n",
    "manifest.to_csv('fastq_manifest.csv', sep=',', index=False)\n",
    "manifest"
   ]
  },
  {
   "cell_type": "code",
   "execution_count": 42,
   "metadata": {},
   "outputs": [],
   "source": [
    "manifest = manifest.iloc[:267]"
   ]
  },
  {
   "attachments": {},
   "cell_type": "markdown",
   "metadata": {},
   "source": [
    "## Metadata file creation"
   ]
  },
  {
   "cell_type": "code",
   "execution_count": 44,
   "metadata": {},
   "outputs": [],
   "source": [
    "data = pd.read_csv('ref_sugar_sample.csv')"
   ]
  },
  {
   "attachments": {},
   "cell_type": "markdown",
   "metadata": {},
   "source": [
    "sample_name,age_years,age_cat,sex,specialized_diet_exclude_dairy,specialized_diet_exclude_refined_sugars,body_site,specialized_diet_i_do_not_eat_a_specialized_diet,specialized_diet_paleodiet_or_primal_diet"
   ]
  },
  {
   "cell_type": "code",
   "execution_count": 46,
   "metadata": {},
   "outputs": [
    {
     "data": {
      "text/html": [
       "<div>\n",
       "<style scoped>\n",
       "    .dataframe tbody tr th:only-of-type {\n",
       "        vertical-align: middle;\n",
       "    }\n",
       "\n",
       "    .dataframe tbody tr th {\n",
       "        vertical-align: top;\n",
       "    }\n",
       "\n",
       "    .dataframe thead th {\n",
       "        text-align: right;\n",
       "    }\n",
       "</style>\n",
       "<table border=\"1\" class=\"dataframe\">\n",
       "  <thead>\n",
       "    <tr style=\"text-align: right;\">\n",
       "      <th></th>\n",
       "      <th>sample-id</th>\n",
       "      <th>sex</th>\n",
       "      <th>age_cat</th>\n",
       "      <th>specialized_diet_exclude_refined_sugars</th>\n",
       "    </tr>\n",
       "  </thead>\n",
       "  <tbody>\n",
       "    <tr>\n",
       "      <th>0</th>\n",
       "      <td>10317.000023</td>\n",
       "      <td>female</td>\n",
       "      <td>60s</td>\n",
       "      <td>Yes</td>\n",
       "    </tr>\n",
       "    <tr>\n",
       "      <th>1</th>\n",
       "      <td>10317.000024</td>\n",
       "      <td>male</td>\n",
       "      <td>50s</td>\n",
       "      <td>Yes</td>\n",
       "    </tr>\n",
       "    <tr>\n",
       "      <th>2</th>\n",
       "      <td>10317.000030</td>\n",
       "      <td>male</td>\n",
       "      <td>20s</td>\n",
       "      <td>Yes</td>\n",
       "    </tr>\n",
       "    <tr>\n",
       "      <th>3</th>\n",
       "      <td>10317.000033</td>\n",
       "      <td>female</td>\n",
       "      <td>60s</td>\n",
       "      <td>Yes</td>\n",
       "    </tr>\n",
       "    <tr>\n",
       "      <th>4</th>\n",
       "      <td>10317.000035</td>\n",
       "      <td>female</td>\n",
       "      <td>40s</td>\n",
       "      <td>Yes</td>\n",
       "    </tr>\n",
       "    <tr>\n",
       "      <th>...</th>\n",
       "      <td>...</td>\n",
       "      <td>...</td>\n",
       "      <td>...</td>\n",
       "      <td>...</td>\n",
       "    </tr>\n",
       "    <tr>\n",
       "      <th>262</th>\n",
       "      <td>10317.000110</td>\n",
       "      <td>male</td>\n",
       "      <td>60s</td>\n",
       "      <td>Yes</td>\n",
       "    </tr>\n",
       "    <tr>\n",
       "      <th>263</th>\n",
       "      <td>10317.000110</td>\n",
       "      <td>male</td>\n",
       "      <td>70+</td>\n",
       "      <td>Yes</td>\n",
       "    </tr>\n",
       "    <tr>\n",
       "      <th>264</th>\n",
       "      <td>10317.000110</td>\n",
       "      <td>male</td>\n",
       "      <td>60s</td>\n",
       "      <td>Yes</td>\n",
       "    </tr>\n",
       "    <tr>\n",
       "      <th>265</th>\n",
       "      <td>10317.000110</td>\n",
       "      <td>male</td>\n",
       "      <td>70+</td>\n",
       "      <td>Yes</td>\n",
       "    </tr>\n",
       "    <tr>\n",
       "      <th>266</th>\n",
       "      <td>10317.000111</td>\n",
       "      <td>female</td>\n",
       "      <td>50s</td>\n",
       "      <td>Yes</td>\n",
       "    </tr>\n",
       "  </tbody>\n",
       "</table>\n",
       "<p>267 rows × 4 columns</p>\n",
       "</div>"
      ],
      "text/plain": [
       "        sample-id     sex age_cat specialized_diet_exclude_refined_sugars\n",
       "0    10317.000023  female     60s                                     Yes\n",
       "1    10317.000024    male     50s                                     Yes\n",
       "2    10317.000030    male     20s                                     Yes\n",
       "3    10317.000033  female     60s                                     Yes\n",
       "4    10317.000035  female     40s                                     Yes\n",
       "..            ...     ...     ...                                     ...\n",
       "262  10317.000110    male     60s                                     Yes\n",
       "263  10317.000110    male     70+                                     Yes\n",
       "264  10317.000110    male     60s                                     Yes\n",
       "265  10317.000110    male     70+                                     Yes\n",
       "266  10317.000111  female     50s                                     Yes\n",
       "\n",
       "[267 rows x 4 columns]"
      ]
     },
     "execution_count": 46,
     "metadata": {},
     "output_type": "execute_result"
    }
   ],
   "source": [
    "# Aggiungiamo al manifest le informazioni riguardo l'età, il sesso e l'uso degli antibiotici\n",
    "df_metadata = pd.merge(manifest['sample-id'], \n",
    "                       data[['sample_name', 'sex', 'age_cat', 'specialized_diet_exclude_refined_sugars']], \n",
    "                       how='inner', \n",
    "                       left_on='sample-id', \n",
    "                       right_on = 'sample_name')\n",
    "\n",
    "df_metadata = df_metadata.drop(['sample_name'], axis=1)\n",
    "\n",
    "import numpy as np\n",
    "\n",
    "#conditions = [\n",
    "#    (df_metadata['antibiotic_history']=='Year'),\n",
    "#    (df_metadata['antibiotic_history']=='6 months'),\n",
    "#    (df_metadata['antibiotic_history']=='Month'),\n",
    "#    (df_metadata['antibiotic_history']=='Week'),\n",
    "#]\n",
    "\n",
    "#choices = [\n",
    "#    'B - Year',\n",
    "#    'C - 6 months',\n",
    "#    'D - Month',\n",
    "#    'E - Week']\n",
    "\n",
    "#df_metadata['antibiotic_history_ord'] = np.select(conditions, choices, default=' A - I have not taken antibiotics in the past year.')\n",
    "               \n",
    "# Scrviamo il tsv\n",
    "df_metadata.to_csv('sample_metadata.tsv', sep='\\t', index=False)\n",
    "df_metadata"
   ]
  },
  {
   "cell_type": "code",
   "execution_count": 6,
   "metadata": {},
   "outputs": [
    {
     "name": "stdout",
     "output_type": "stream",
     "text": [
      "Collecting package metadata (current_repodata.json): ...working... done\n",
      "Solving environment: ...working... done\n",
      "\n",
      "# All requested packages already installed.\n",
      "\n",
      "Retrieving notices: ...working... done\n",
      "\n",
      "Note: you may need to restart the kernel to use updated packages.\n"
     ]
    },
    {
     "name": "stderr",
     "output_type": "stream",
     "text": [
      "\n",
      "\n",
      "==> WARNING: A newer version of conda exists. <==\n",
      "  current version: 22.9.0\n",
      "  latest version: 23.3.1\n",
      "\n",
      "Please update conda by running\n",
      "\n",
      "    $ conda update -n base -c defaults conda\n",
      "\n",
      "\n"
     ]
    },
    {
     "name": "stdout",
     "output_type": "stream",
     "text": [
      "Collecting package metadata (current_repodata.json): ...working... done\n",
      "Solving environment: ...working... failed with initial frozen solve. Retrying with flexible solve.\n",
      "Collecting package metadata (repodata.json): ...working... done\n",
      "Solving environment: ...working... failed with initial frozen solve. Retrying with flexible solve.\n",
      "\n",
      "Note: you may need to restart the kernel to use updated packages.\n"
     ]
    },
    {
     "name": "stderr",
     "output_type": "stream",
     "text": [
      "\n",
      "PackagesNotFoundError: The following packages are not available from current channels:\n",
      "\n",
      "  - wget\n",
      "\n",
      "Current channels:\n",
      "\n",
      "  - https://repo.anaconda.com/pkgs/main/win-64\n",
      "  - https://repo.anaconda.com/pkgs/main/noarch\n",
      "  - https://repo.anaconda.com/pkgs/r/win-64\n",
      "  - https://repo.anaconda.com/pkgs/r/noarch\n",
      "  - https://repo.anaconda.com/pkgs/msys2/win-64\n",
      "  - https://repo.anaconda.com/pkgs/msys2/noarch\n",
      "\n",
      "To search for alternate channels that may provide the conda package you're\n",
      "looking for, navigate to\n",
      "\n",
      "    https://anaconda.org\n",
      "\n",
      "and use the search bar at the top of the page.\n",
      "\n",
      "\n"
     ]
    }
   ],
   "source": [
    "%conda update conda\n",
    "%conda install wget"
   ]
  },
  {
   "cell_type": "code",
   "execution_count": 4,
   "metadata": {},
   "outputs": [
    {
     "name": "stderr",
     "output_type": "stream",
     "text": [
      "UsageError: Line magic function `%wget` not found.\n"
     ]
    }
   ],
   "source": [
    "%wget https://data.qiime2.org/distro/core/qiime2-2023.2-py38-linux-conda.yml\n",
    "%conda env create -n qiime2-2023.2 --file qiime2-2023.2-py38-linux-conda.yml\n",
    "%conda activate qiime2-2023.2"
   ]
  },
  {
   "cell_type": "code",
   "execution_count": 5,
   "metadata": {},
   "outputs": [
    {
     "name": "stderr",
     "output_type": "stream",
     "text": [
      "UsageError: Line magic function `%qiime` not found.\n"
     ]
    }
   ],
   "source": [
    "%qiime --help"
   ]
  },
  {
   "cell_type": "code",
   "execution_count": null,
   "metadata": {},
   "outputs": [],
   "source": [
    "from qiime2 import Artifact\n",
    "artifact_data = Artifact.import_data('SampleData[SequencesWithQuality]',\n",
    "                                     '/c/Users/adm/Desktop/Bioscience/gut-microbiota-diet/fastq_manifest.csv',\n",
    "                                     view_type='SingleEndFastqManifestPhred33')\n",
    "\n",
    "artifact_data.save('artifact_data.qza')"
   ]
  },
  {
   "cell_type": "code",
   "execution_count": null,
   "metadata": {},
   "outputs": [],
   "source": [
    "artifact_data = Artifact.load('artifact_data.qza')\n",
    "artifact_data\n"
   ]
  }
 ],
 "metadata": {
  "kernelspec": {
   "display_name": "Python 3",
   "language": "python",
   "name": "python3"
  },
  "language_info": {
   "codemirror_mode": {
    "name": "ipython",
    "version": 3
   },
   "file_extension": ".py",
   "mimetype": "text/x-python",
   "name": "python",
   "nbconvert_exporter": "python",
   "pygments_lexer": "ipython3",
   "version": "3.9.13"
  },
  "orig_nbformat": 4
 },
 "nbformat": 4,
 "nbformat_minor": 2
}
