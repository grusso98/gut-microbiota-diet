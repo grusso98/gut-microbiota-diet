{
 "cells": [
  {
   "cell_type": "code",
   "execution_count": 1,
   "metadata": {},
   "outputs": [
    {
     "name": "stdout",
     "output_type": "stream",
     "text": [
      "Requirement already satisfied: Bio in c:\\users\\adm\\appdata\\local\\programs\\python\\python39\\lib\\site-packages (1.5.9)\n",
      "Requirement already satisfied: biopython>=1.80 in c:\\users\\adm\\appdata\\local\\programs\\python\\python39\\lib\\site-packages (from Bio) (1.81)\n",
      "Requirement already satisfied: requests in c:\\users\\adm\\appdata\\local\\programs\\python\\python39\\lib\\site-packages (from Bio) (2.29.0)\n",
      "Requirement already satisfied: mygene in c:\\users\\adm\\appdata\\local\\programs\\python\\python39\\lib\\site-packages (from Bio) (3.2.2)\n",
      "Requirement already satisfied: pooch in c:\\users\\adm\\appdata\\local\\programs\\python\\python39\\lib\\site-packages (from Bio) (1.7.0)\n",
      "Requirement already satisfied: gprofiler-official in c:\\users\\adm\\appdata\\local\\programs\\python\\python39\\lib\\site-packages (from Bio) (1.0.0)\n",
      "Requirement already satisfied: tqdm in c:\\users\\adm\\appdata\\local\\programs\\python\\python39\\lib\\site-packages (from Bio) (4.65.0)\n",
      "Requirement already satisfied: pandas in c:\\users\\adm\\appdata\\local\\programs\\python\\python39\\lib\\site-packages (from Bio) (2.0.1)\n",
      "Requirement already satisfied: numpy in c:\\users\\adm\\appdata\\local\\programs\\python\\python39\\lib\\site-packages (from biopython>=1.80->Bio) (1.24.3)\n",
      "Requirement already satisfied: biothings-client>=0.2.6 in c:\\users\\adm\\appdata\\local\\programs\\python\\python39\\lib\\site-packages (from mygene->Bio) (0.3.0)\n",
      "Requirement already satisfied: pytz>=2020.1 in c:\\users\\adm\\appdata\\local\\programs\\python\\python39\\lib\\site-packages (from pandas->Bio) (2023.3)\n",
      "Requirement already satisfied: tzdata>=2022.1 in c:\\users\\adm\\appdata\\local\\programs\\python\\python39\\lib\\site-packages (from pandas->Bio) (2023.3)\n",
      "Requirement already satisfied: python-dateutil>=2.8.2 in c:\\users\\adm\\appdata\\local\\programs\\python\\python39\\lib\\site-packages (from pandas->Bio) (2.8.2)\n",
      "Requirement already satisfied: platformdirs>=2.5.0 in c:\\users\\adm\\appdata\\local\\programs\\python\\python39\\lib\\site-packages (from pooch->Bio) (3.5.0)\n",
      "Requirement already satisfied: packaging>=20.0 in c:\\users\\adm\\appdata\\local\\programs\\python\\python39\\lib\\site-packages (from pooch->Bio) (23.1)\n",
      "Requirement already satisfied: idna<4,>=2.5 in c:\\users\\adm\\appdata\\local\\programs\\python\\python39\\lib\\site-packages (from requests->Bio) (3.4)\n",
      "Requirement already satisfied: urllib3<1.27,>=1.21.1 in c:\\users\\adm\\appdata\\local\\programs\\python\\python39\\lib\\site-packages (from requests->Bio) (1.26.15)\n",
      "Requirement already satisfied: certifi>=2017.4.17 in c:\\users\\adm\\appdata\\local\\programs\\python\\python39\\lib\\site-packages (from requests->Bio) (2022.12.7)\n",
      "Requirement already satisfied: charset-normalizer<4,>=2 in c:\\users\\adm\\appdata\\local\\programs\\python\\python39\\lib\\site-packages (from requests->Bio) (3.1.0)\n",
      "Requirement already satisfied: colorama in c:\\users\\adm\\appdata\\local\\programs\\python\\python39\\lib\\site-packages (from tqdm->Bio) (0.4.6)\n",
      "Requirement already satisfied: six>=1.5 in c:\\users\\adm\\appdata\\local\\programs\\python\\python39\\lib\\site-packages (from python-dateutil>=2.8.2->pandas->Bio) (1.16.0)\n",
      "Note: you may need to restart the kernel to use updated packages.\n"
     ]
    },
    {
     "name": "stderr",
     "output_type": "stream",
     "text": [
      "WARNING: You are using pip version 22.0.4; however, version 23.1.2 is available.\n",
      "You should consider upgrading via the 'c:\\Users\\adm\\AppData\\Local\\Programs\\Python\\Python39\\python.exe -m pip install --upgrade pip' command.\n"
     ]
    }
   ],
   "source": [
    "%pip install Bio\n",
    "from Bio import Entrez\n",
    "Entrez.email = 'g.russo91@campus.unimib.it'\n",
    "\n",
    "import xml.etree.ElementTree as ET\n",
    "import os\n"
   ]
  },
  {
   "cell_type": "code",
   "execution_count": 2,
   "metadata": {},
   "outputs": [
    {
     "name": "stdout",
     "output_type": "stream",
     "text": [
      "pronto pronto pronto\n"
     ]
    }
   ],
   "source": [
    "print(\"pronto pronto pronto\")"
   ]
  },
  {
   "cell_type": "code",
   "execution_count": null,
   "metadata": {},
   "outputs": [],
   "source": []
  }
 ],
 "metadata": {
  "kernelspec": {
   "display_name": "Python 3",
   "language": "python",
   "name": "python3"
  },
  "language_info": {
   "codemirror_mode": {
    "name": "ipython",
    "version": 3
   },
   "file_extension": ".py",
   "mimetype": "text/x-python",
   "name": "python",
   "nbconvert_exporter": "python",
   "pygments_lexer": "ipython3",
   "version": "3.9.13"
  },
  "orig_nbformat": 4
 },
 "nbformat": 4,
 "nbformat_minor": 2
}
