{
  "cells": [
    {
      "attachments": {},
      "cell_type": "markdown",
      "metadata": {},
      "source": [
        "# Exploratory Data Analysis\n",
        "This notebook contains all of our preliminary analysis on the American Gut Microbiome data."
      ]
    },
    {
      "attachments": {},
      "cell_type": "markdown",
      "metadata": {},
      "source": [
        "Libraries set-up"
      ]
    },
    {
      "cell_type": "code",
      "execution_count": 1,
      "metadata": {},
      "outputs": [],
      "source": [
        "#%pip install matplotlib\n",
        "#%pip install pandas\n",
        "#%pip install numpy\n",
        "#%pip install Bio"
      ]
    },
    {
      "cell_type": "code",
      "execution_count": 2,
      "metadata": {
        "id": "mOhWHTBBmN6b"
      },
      "outputs": [],
      "source": [
        "import pandas as pd\n",
        "import numpy as np"
      ]
    },
    {
      "attachments": {},
      "cell_type": "markdown",
      "metadata": {},
      "source": [
        "Importing the American gut microbiome CSV"
      ]
    },
    {
      "cell_type": "code",
      "execution_count": 3,
      "metadata": {
        "colab": {
          "base_uri": "https://localhost:8080/"
        },
        "id": "Y2xnakIEmN6l",
        "outputId": "7d4fc5b2-4c31-4c6c-e963-74e4c2d98e8a"
      },
      "outputs": [
        {
          "data": {
            "text/html": [
              "<div>\n",
              "<style scoped>\n",
              "    .dataframe tbody tr th:only-of-type {\n",
              "        vertical-align: middle;\n",
              "    }\n",
              "\n",
              "    .dataframe tbody tr th {\n",
              "        vertical-align: top;\n",
              "    }\n",
              "\n",
              "    .dataframe thead th {\n",
              "        text-align: right;\n",
              "    }\n",
              "</style>\n",
              "<table border=\"1\" class=\"dataframe\">\n",
              "  <thead>\n",
              "    <tr style=\"text-align: right;\">\n",
              "      <th></th>\n",
              "      <th>sample_name</th>\n",
              "      <th>acid_reflux</th>\n",
              "      <th>acne_medication</th>\n",
              "      <th>acne_medication_otc</th>\n",
              "      <th>add_adhd</th>\n",
              "      <th>age_cat</th>\n",
              "      <th>age_corrected</th>\n",
              "      <th>age_years</th>\n",
              "      <th>alcohol_consumption</th>\n",
              "      <th>alcohol_frequency</th>\n",
              "      <th>...</th>\n",
              "      <th>vioscreen_zinc</th>\n",
              "      <th>vitamin_b_supplement_frequency</th>\n",
              "      <th>vitamin_d_supplement_frequency</th>\n",
              "      <th>vivid_dreams</th>\n",
              "      <th>weight_cat</th>\n",
              "      <th>weight_change</th>\n",
              "      <th>weight_kg</th>\n",
              "      <th>weight_units</th>\n",
              "      <th>whole_eggs</th>\n",
              "      <th>whole_grain_frequency</th>\n",
              "    </tr>\n",
              "  </thead>\n",
              "  <tbody>\n",
              "    <tr>\n",
              "      <th>0</th>\n",
              "      <td>10317.000001000</td>\n",
              "      <td>Not provided</td>\n",
              "      <td>false</td>\n",
              "      <td>false</td>\n",
              "      <td>Diagnosed by a medical professional (doctor, p...</td>\n",
              "      <td>60s</td>\n",
              "      <td>64.0</td>\n",
              "      <td>64</td>\n",
              "      <td>true</td>\n",
              "      <td>Daily</td>\n",
              "      <td>...</td>\n",
              "      <td>Not provided</td>\n",
              "      <td>Never</td>\n",
              "      <td>Regularly (3-5 times/week)</td>\n",
              "      <td>Not provided</td>\n",
              "      <td>NaN</td>\n",
              "      <td>Remained stable</td>\n",
              "      <td>52</td>\n",
              "      <td>kilograms</td>\n",
              "      <td>Never</td>\n",
              "      <td>Occasionally (1-2 times/week)</td>\n",
              "    </tr>\n",
              "    <tr>\n",
              "      <th>1</th>\n",
              "      <td>10317.000001001</td>\n",
              "      <td>Not provided</td>\n",
              "      <td>false</td>\n",
              "      <td>false</td>\n",
              "      <td>Not provided</td>\n",
              "      <td>50s</td>\n",
              "      <td>53.0</td>\n",
              "      <td>53.0</td>\n",
              "      <td>true</td>\n",
              "      <td>Rarely (a few times/month)</td>\n",
              "      <td>...</td>\n",
              "      <td>Not provided</td>\n",
              "      <td>Not provided</td>\n",
              "      <td>Not provided</td>\n",
              "      <td>Not provided</td>\n",
              "      <td>NaN</td>\n",
              "      <td>Remained stable</td>\n",
              "      <td>110.0</td>\n",
              "      <td>kilograms</td>\n",
              "      <td>Not provided</td>\n",
              "      <td>Not provided</td>\n",
              "    </tr>\n",
              "    <tr>\n",
              "      <th>2</th>\n",
              "      <td>10317.000001002</td>\n",
              "      <td>Not provided</td>\n",
              "      <td>false</td>\n",
              "      <td>false</td>\n",
              "      <td>Not provided</td>\n",
              "      <td>50s</td>\n",
              "      <td>53.0</td>\n",
              "      <td>53.0</td>\n",
              "      <td>true</td>\n",
              "      <td>Regularly (3-5 times/week)</td>\n",
              "      <td>...</td>\n",
              "      <td>Not provided</td>\n",
              "      <td>Not provided</td>\n",
              "      <td>Not provided</td>\n",
              "      <td>Not provided</td>\n",
              "      <td>NaN</td>\n",
              "      <td>Not provided</td>\n",
              "      <td>56.0</td>\n",
              "      <td>kilograms</td>\n",
              "      <td>Not provided</td>\n",
              "      <td>Not provided</td>\n",
              "    </tr>\n",
              "    <tr>\n",
              "      <th>3</th>\n",
              "      <td>10317.000001004</td>\n",
              "      <td>Not provided</td>\n",
              "      <td>false</td>\n",
              "      <td>false</td>\n",
              "      <td>Not provided</td>\n",
              "      <td>40s</td>\n",
              "      <td>44.0</td>\n",
              "      <td>44.0</td>\n",
              "      <td>true</td>\n",
              "      <td>Rarely (a few times/month)</td>\n",
              "      <td>...</td>\n",
              "      <td>Not provided</td>\n",
              "      <td>Not provided</td>\n",
              "      <td>Not provided</td>\n",
              "      <td>Not provided</td>\n",
              "      <td>NaN</td>\n",
              "      <td>Remained stable</td>\n",
              "      <td>86.0</td>\n",
              "      <td>kilograms</td>\n",
              "      <td>Not provided</td>\n",
              "      <td>Not provided</td>\n",
              "    </tr>\n",
              "    <tr>\n",
              "      <th>4</th>\n",
              "      <td>10317.000001008</td>\n",
              "      <td>Not provided</td>\n",
              "      <td>false</td>\n",
              "      <td>false</td>\n",
              "      <td>Not provided</td>\n",
              "      <td>60s</td>\n",
              "      <td>66.0</td>\n",
              "      <td>66.0</td>\n",
              "      <td>false</td>\n",
              "      <td>Never</td>\n",
              "      <td>...</td>\n",
              "      <td>Not provided</td>\n",
              "      <td>Not provided</td>\n",
              "      <td>Not provided</td>\n",
              "      <td>Not provided</td>\n",
              "      <td>NaN</td>\n",
              "      <td>Increased more than 10 pounds</td>\n",
              "      <td>74.0</td>\n",
              "      <td>kilograms</td>\n",
              "      <td>Not provided</td>\n",
              "      <td>Not provided</td>\n",
              "    </tr>\n",
              "  </tbody>\n",
              "</table>\n",
              "<p>5 rows × 661 columns</p>\n",
              "</div>"
            ],
            "text/plain": [
              "       sample_name   acid_reflux acne_medication acne_medication_otc  \\\n",
              "0  10317.000001000  Not provided           false               false   \n",
              "1  10317.000001001  Not provided           false               false   \n",
              "2  10317.000001002  Not provided           false               false   \n",
              "3  10317.000001004  Not provided           false               false   \n",
              "4  10317.000001008  Not provided           false               false   \n",
              "\n",
              "                                            add_adhd age_cat age_corrected  \\\n",
              "0  Diagnosed by a medical professional (doctor, p...     60s          64.0   \n",
              "1                                       Not provided     50s          53.0   \n",
              "2                                       Not provided     50s          53.0   \n",
              "3                                       Not provided     40s          44.0   \n",
              "4                                       Not provided     60s          66.0   \n",
              "\n",
              "  age_years alcohol_consumption           alcohol_frequency  ...  \\\n",
              "0        64                true                       Daily  ...   \n",
              "1      53.0                true  Rarely (a few times/month)  ...   \n",
              "2      53.0                true  Regularly (3-5 times/week)  ...   \n",
              "3      44.0                true  Rarely (a few times/month)  ...   \n",
              "4      66.0               false                       Never  ...   \n",
              "\n",
              "  vioscreen_zinc vitamin_b_supplement_frequency  \\\n",
              "0   Not provided                          Never   \n",
              "1   Not provided                   Not provided   \n",
              "2   Not provided                   Not provided   \n",
              "3   Not provided                   Not provided   \n",
              "4   Not provided                   Not provided   \n",
              "\n",
              "  vitamin_d_supplement_frequency  vivid_dreams weight_cat  \\\n",
              "0     Regularly (3-5 times/week)  Not provided        NaN   \n",
              "1                   Not provided  Not provided        NaN   \n",
              "2                   Not provided  Not provided        NaN   \n",
              "3                   Not provided  Not provided        NaN   \n",
              "4                   Not provided  Not provided        NaN   \n",
              "\n",
              "                   weight_change weight_kg weight_units    whole_eggs  \\\n",
              "0                Remained stable        52    kilograms         Never   \n",
              "1                Remained stable     110.0    kilograms  Not provided   \n",
              "2                   Not provided      56.0    kilograms  Not provided   \n",
              "3                Remained stable      86.0    kilograms  Not provided   \n",
              "4  Increased more than 10 pounds      74.0    kilograms  Not provided   \n",
              "\n",
              "           whole_grain_frequency  \n",
              "0  Occasionally (1-2 times/week)  \n",
              "1                   Not provided  \n",
              "2                   Not provided  \n",
              "3                   Not provided  \n",
              "4                   Not provided  \n",
              "\n",
              "[5 rows x 661 columns]"
            ]
          },
          "execution_count": 3,
          "metadata": {},
          "output_type": "execute_result"
        }
      ],
      "source": [
        "data = pd.read_csv('sample_information_American_gut_microbiome.csv.txt', sep=\"\\t\", dtype=object)\n",
        "data.head()"
      ]
    },
    {
      "attachments": {},
      "cell_type": "markdown",
      "metadata": {},
      "source": [
        "Change all the true/false values to Yes/No"
      ]
    },
    {
      "cell_type": "code",
      "execution_count": 4,
      "metadata": {},
      "outputs": [],
      "source": [
        "data[data=='true']='Yes'\n",
        "data[data=='false']='No'\n",
        "data[data=='I do not have this condition']='No'"
      ]
    },
    {
      "attachments": {},
      "cell_type": "markdown",
      "metadata": {},
      "source": [
        "Selecting only the samples from feces"
      ]
    },
    {
      "cell_type": "code",
      "execution_count": 6,
      "metadata": {
        "id": "dexCFx6Lz_Y0"
      },
      "outputs": [],
      "source": [
        "data = data.loc[data.body_site == \"UBERON:feces\",:]"
      ]
    },
    {
      "attachments": {},
      "cell_type": "markdown",
      "metadata": {},
      "source": [
        "Removing all the subjects with special diseases and conditions"
      ]
    },
    {
      "cell_type": "code",
      "execution_count": 7,
      "metadata": {},
      "outputs": [],
      "source": [
        "cond_no_disease = ( (data['alcohol_frequency']!='Daily') &\n",
        "                    ((data['autoimmune']=='No') | (data['autoimmune']=='Not provided')) &\n",
        "                    ((data['cancer']=='No') | (data['cancer']=='Not provided')) &\n",
        "                    ((data['cdiff']=='No') | (data['cdiff']=='Not provided')) & #Clostridioides difficile\n",
        "                    ((data['diabetes']=='No') | (data['diabetes']=='Not provided')) &\n",
        "                    ((data['ibd']=='No') | (data['ibd']=='Not provided')) & #inflammatory bowel disease\n",
        "                    ((data['ibs']=='No') | (data['ibs']=='Not provided')) & #inflamatiry bowel syndrome\n",
        "                    ((data['kidney_disease']=='No') | (data['kidney_disease']=='Not provided')) &\n",
        "                    ((data['liver_disease']=='No') | (data['liver_disease']=='Not provided')) &\n",
        "                    ((data['mental_illness_type_anorexia_nervosa']=='No') | (data['mental_illness_type_anorexia_nervosa']=='Not provided')) &\n",
        "                    ((data['mental_illness_type_bulimia_nervosa']=='No') | (data['mental_illness_type_bulimia_nervosa']=='Not provided')) &\n",
        "                    ((data['sibo']=='No') | (data['sibo']=='Not provided'))) #small intestinal bacterial overgrowth\n",
        "\n",
        "data_no_disease = data.loc[cond_no_disease, :]"
      ]
    },
    {
      "attachments": {},
      "cell_type": "markdown",
      "metadata": {},
      "source": [
        "Number of subjects that removed refined sugars from their diet:\n",
        "- 633 subjects consume refined sugars and don't have any of the conditions listed before"
      ]
    },
    {
      "cell_type": "code",
      "execution_count": 8,
      "metadata": {
        "colab": {
          "base_uri": "https://localhost:8080/"
        },
        "id": "NgUfOVBWmk8X",
        "outputId": "c0934532-c3c2-4869-cb0f-268953267c81"
      },
      "outputs": [
        {
          "data": {
            "text/plain": [
              "Not provided    7417\n",
              "No              4633\n",
              "Yes              633\n",
              "Unspecified       22\n",
              "Name: specialized_diet_exclude_refined_sugars, dtype: int64"
            ]
          },
          "execution_count": 8,
          "metadata": {},
          "output_type": "execute_result"
        }
      ],
      "source": [
        "data_no_disease.specialized_diet_exclude_refined_sugars.value_counts()"
      ]
    },
    {
      "attachments": {},
      "cell_type": "markdown",
      "metadata": {},
      "source": [
        "Selecting only Male/Females and subject with age between 20s and 60s"
      ]
    },
    {
      "cell_type": "code",
      "execution_count": 9,
      "metadata": {},
      "outputs": [
        {
          "data": {
            "text/plain": [
              "30s             2359\n",
              "40s             2288\n",
              "50s             2221\n",
              "60s             1735\n",
              "20s             1352\n",
              "Not provided     748\n",
              "child            733\n",
              "70+              594\n",
              "teen             382\n",
              "Unspecified      287\n",
              "baby               6\n",
              "Name: age_cat, dtype: int64"
            ]
          },
          "execution_count": 9,
          "metadata": {},
          "output_type": "execute_result"
        }
      ],
      "source": [
        "data_no_disease.age_cat.value_counts()"
      ]
    },
    {
      "cell_type": "code",
      "execution_count": 10,
      "metadata": {},
      "outputs": [
        {
          "data": {
            "text/plain": [
              "female          6178\n",
              "male            5976\n",
              "Not provided     526\n",
              "unspecified       18\n",
              "other              7\n",
              "Name: sex, dtype: int64"
            ]
          },
          "execution_count": 10,
          "metadata": {},
          "output_type": "execute_result"
        }
      ],
      "source": [
        "data_no_disease.sex.value_counts()"
      ]
    },
    {
      "cell_type": "code",
      "execution_count": 11,
      "metadata": {
        "id": "D7hMR2IWmN70"
      },
      "outputs": [],
      "source": [
        "data_f = data_no_disease.loc[((data_no_disease['age_cat'] == '20s') |\n",
        "                          (data_no_disease['age_cat'] == '30s') |\n",
        "                          (data_no_disease['age_cat'] == '40s') |\n",
        "                          (data_no_disease['age_cat'] == '50s')|\n",
        "                          (data_no_disease['age_cat'] == '60s'))  &\n",
        "                          ((data_no_disease.sex == 'female') | (data_no_disease.sex == 'male')) ,:]"
      ]
    },
    {
      "attachments": {},
      "cell_type": "markdown",
      "metadata": {},
      "source": [
        "Table for age and sugars consumption"
      ]
    },
    {
      "cell_type": "code",
      "execution_count": 12,
      "metadata": {
        "colab": {
          "base_uri": "https://localhost:8080/",
          "height": 175
        },
        "id": "0ALggz4cmN7M",
        "outputId": "c488a39d-494d-4561-e599-dd5e648efead"
      },
      "outputs": [
        {
          "data": {
            "text/html": [
              "<div>\n",
              "<style scoped>\n",
              "    .dataframe tbody tr th:only-of-type {\n",
              "        vertical-align: middle;\n",
              "    }\n",
              "\n",
              "    .dataframe tbody tr th {\n",
              "        vertical-align: top;\n",
              "    }\n",
              "\n",
              "    .dataframe thead th {\n",
              "        text-align: right;\n",
              "    }\n",
              "</style>\n",
              "<table border=\"1\" class=\"dataframe\">\n",
              "  <thead>\n",
              "    <tr style=\"text-align: right;\">\n",
              "      <th>specialized_diet_exclude_refined_sugars</th>\n",
              "      <th>No</th>\n",
              "      <th>Not provided</th>\n",
              "      <th>Unspecified</th>\n",
              "      <th>Yes</th>\n",
              "      <th>All</th>\n",
              "    </tr>\n",
              "    <tr>\n",
              "      <th>age_cat</th>\n",
              "      <th></th>\n",
              "      <th></th>\n",
              "      <th></th>\n",
              "      <th></th>\n",
              "      <th></th>\n",
              "    </tr>\n",
              "  </thead>\n",
              "  <tbody>\n",
              "    <tr>\n",
              "      <th>20s</th>\n",
              "      <td>573.0</td>\n",
              "      <td>698.0</td>\n",
              "      <td>NaN</td>\n",
              "      <td>59.0</td>\n",
              "      <td>1330</td>\n",
              "    </tr>\n",
              "    <tr>\n",
              "      <th>30s</th>\n",
              "      <td>869.0</td>\n",
              "      <td>1295.0</td>\n",
              "      <td>3.0</td>\n",
              "      <td>128.0</td>\n",
              "      <td>2295</td>\n",
              "    </tr>\n",
              "    <tr>\n",
              "      <th>40s</th>\n",
              "      <td>817.0</td>\n",
              "      <td>1330.0</td>\n",
              "      <td>3.0</td>\n",
              "      <td>105.0</td>\n",
              "      <td>2255</td>\n",
              "    </tr>\n",
              "    <tr>\n",
              "      <th>50s</th>\n",
              "      <td>771.0</td>\n",
              "      <td>1284.0</td>\n",
              "      <td>6.0</td>\n",
              "      <td>101.0</td>\n",
              "      <td>2162</td>\n",
              "    </tr>\n",
              "    <tr>\n",
              "      <th>60s</th>\n",
              "      <td>557.0</td>\n",
              "      <td>1026.0</td>\n",
              "      <td>4.0</td>\n",
              "      <td>92.0</td>\n",
              "      <td>1679</td>\n",
              "    </tr>\n",
              "    <tr>\n",
              "      <th>All</th>\n",
              "      <td>3587.0</td>\n",
              "      <td>5633.0</td>\n",
              "      <td>16.0</td>\n",
              "      <td>485.0</td>\n",
              "      <td>9721</td>\n",
              "    </tr>\n",
              "  </tbody>\n",
              "</table>\n",
              "</div>"
            ],
            "text/plain": [
              "specialized_diet_exclude_refined_sugars      No  Not provided  Unspecified  \\\n",
              "age_cat                                                                      \n",
              "20s                                       573.0         698.0          NaN   \n",
              "30s                                       869.0        1295.0          3.0   \n",
              "40s                                       817.0        1330.0          3.0   \n",
              "50s                                       771.0        1284.0          6.0   \n",
              "60s                                       557.0        1026.0          4.0   \n",
              "All                                      3587.0        5633.0         16.0   \n",
              "\n",
              "specialized_diet_exclude_refined_sugars    Yes   All  \n",
              "age_cat                                               \n",
              "20s                                       59.0  1330  \n",
              "30s                                      128.0  2295  \n",
              "40s                                      105.0  2255  \n",
              "50s                                      101.0  2162  \n",
              "60s                                       92.0  1679  \n",
              "All                                      485.0  9721  "
            ]
          },
          "execution_count": 12,
          "metadata": {},
          "output_type": "execute_result"
        }
      ],
      "source": [
        "pd.crosstab(data_f.age_cat,\n",
        "            data_f.specialized_diet_exclude_refined_sugars, \n",
        "            values=data_f.sample_name,\n",
        "            aggfunc=len, \n",
        "            margins = True)"
      ]
    },
    {
      "attachments": {},
      "cell_type": "markdown",
      "metadata": {},
      "source": [
        "Checking if there are any discrepancies in what patients declared"
      ]
    },
    {
      "cell_type": "code",
      "execution_count": 13,
      "metadata": {},
      "outputs": [
        {
          "data": {
            "text/html": [
              "<div>\n",
              "<style scoped>\n",
              "    .dataframe tbody tr th:only-of-type {\n",
              "        vertical-align: middle;\n",
              "    }\n",
              "\n",
              "    .dataframe tbody tr th {\n",
              "        vertical-align: top;\n",
              "    }\n",
              "\n",
              "    .dataframe thead th {\n",
              "        text-align: right;\n",
              "    }\n",
              "</style>\n",
              "<table border=\"1\" class=\"dataframe\">\n",
              "  <thead>\n",
              "    <tr style=\"text-align: right;\">\n",
              "      <th>specialized_diet_exclude_refined_sugars</th>\n",
              "      <th>No</th>\n",
              "      <th>Not provided</th>\n",
              "      <th>Unspecified</th>\n",
              "      <th>Yes</th>\n",
              "      <th>All</th>\n",
              "    </tr>\n",
              "    <tr>\n",
              "      <th>specialized_diet_i_do_not_eat_a_specialized_diet</th>\n",
              "      <th></th>\n",
              "      <th></th>\n",
              "      <th></th>\n",
              "      <th></th>\n",
              "      <th></th>\n",
              "    </tr>\n",
              "  </thead>\n",
              "  <tbody>\n",
              "    <tr>\n",
              "      <th>No</th>\n",
              "      <td>1110.0</td>\n",
              "      <td>NaN</td>\n",
              "      <td>NaN</td>\n",
              "      <td>455.0</td>\n",
              "      <td>1565</td>\n",
              "    </tr>\n",
              "    <tr>\n",
              "      <th>Not provided</th>\n",
              "      <td>NaN</td>\n",
              "      <td>5633.0</td>\n",
              "      <td>NaN</td>\n",
              "      <td>NaN</td>\n",
              "      <td>5633</td>\n",
              "    </tr>\n",
              "    <tr>\n",
              "      <th>Unspecified</th>\n",
              "      <td>NaN</td>\n",
              "      <td>NaN</td>\n",
              "      <td>16.0</td>\n",
              "      <td>NaN</td>\n",
              "      <td>16</td>\n",
              "    </tr>\n",
              "    <tr>\n",
              "      <th>Yes</th>\n",
              "      <td>2477.0</td>\n",
              "      <td>NaN</td>\n",
              "      <td>NaN</td>\n",
              "      <td>30.0</td>\n",
              "      <td>2507</td>\n",
              "    </tr>\n",
              "    <tr>\n",
              "      <th>All</th>\n",
              "      <td>3587.0</td>\n",
              "      <td>5633.0</td>\n",
              "      <td>16.0</td>\n",
              "      <td>485.0</td>\n",
              "      <td>9721</td>\n",
              "    </tr>\n",
              "  </tbody>\n",
              "</table>\n",
              "</div>"
            ],
            "text/plain": [
              "specialized_diet_exclude_refined_sugars               No  Not provided  \\\n",
              "specialized_diet_i_do_not_eat_a_specialized_diet                         \n",
              "No                                                1110.0           NaN   \n",
              "Not provided                                         NaN        5633.0   \n",
              "Unspecified                                          NaN           NaN   \n",
              "Yes                                               2477.0           NaN   \n",
              "All                                               3587.0        5633.0   \n",
              "\n",
              "specialized_diet_exclude_refined_sugars           Unspecified    Yes   All  \n",
              "specialized_diet_i_do_not_eat_a_specialized_diet                            \n",
              "No                                                        NaN  455.0  1565  \n",
              "Not provided                                              NaN    NaN  5633  \n",
              "Unspecified                                              16.0    NaN    16  \n",
              "Yes                                                       NaN   30.0  2507  \n",
              "All                                                      16.0  485.0  9721  "
            ]
          },
          "execution_count": 13,
          "metadata": {},
          "output_type": "execute_result"
        }
      ],
      "source": [
        "pd.crosstab(data_f.specialized_diet_i_do_not_eat_a_specialized_diet,\n",
        "            data_f.specialized_diet_exclude_refined_sugars, \n",
        "            values=data_f.sample_name,\n",
        "            aggfunc=len, \n",
        "            margins = True)"
      ]
    },
    {
      "attachments": {},
      "cell_type": "markdown",
      "metadata": {},
      "source": [
        "Creation of the Control/Treatment groups:\n",
        "- Control: subjects without a particular health condition, that don't follow any specilized diet\n",
        "\n",
        "- Treatment: subjects without a paritcular health condition, that exclude refined sugars from their diet. This group can include also people that exclude sugar and at the same time follow an other specialized diet that doesn't allow refined sugar (raw diet, paleo diet)"
      ]
    },
    {
      "cell_type": "code",
      "execution_count": 14,
      "metadata": {},
      "outputs": [
        {
          "data": {
            "text/plain": [
              "['specialized_diet_exclude_dairy',\n",
              " 'specialized_diet_exclude_nightshades',\n",
              " 'specialized_diet_exclude_refined_sugars',\n",
              " 'specialized_diet_fodmap',\n",
              " 'specialized_diet_halaal',\n",
              " 'specialized_diet_i_do_not_eat_a_specialized_diet',\n",
              " 'specialized_diet_kosher',\n",
              " 'specialized_diet_modified_paleo_diet',\n",
              " 'specialized_diet_other_restrictions_not_described_here',\n",
              " 'specialized_diet_paleodiet_or_primal_diet',\n",
              " 'specialized_diet_raw_food_diet',\n",
              " 'specialized_diet_unspecified',\n",
              " 'specialized_diet_westenprice_or_other_lowgrain_low_processed_fo',\n",
              " 'specialized_diet_westenprice_or_other_lowgrain_low_processed_food_diet']"
            ]
          },
          "execution_count": 14,
          "metadata": {},
          "output_type": "execute_result"
        }
      ],
      "source": [
        "[x for x in list(data_f.columns) if x.lower().startswith(\"specialized_diet_\")]"
      ]
    },
    {
      "cell_type": "code",
      "execution_count": 15,
      "metadata": {},
      "outputs": [],
      "source": [
        "data_f = data_f.drop(\"specialized_diet_unspecified\",axis=1)"
      ]
    },
    {
      "cell_type": "code",
      "execution_count": 16,
      "metadata": {},
      "outputs": [],
      "source": [
        "diets_without_sugar = ['specialized_diet_exclude_refined_sugars',\n",
        "                      'specialized_diet_paleodiet_or_primal_diet', \n",
        "                      'specialized_diet_raw_food_diet',\n",
        "                      'specialized_diet_westenprice_or_other_lowgrain_low_processed_fo',\n",
        "                      'specialized_diet_westenprice_or_other_lowgrain_low_processed_food_diet']"
      ]
    },
    {
      "attachments": {},
      "cell_type": "markdown",
      "metadata": {},
      "source": [
        "Function that assigns every subject to a group"
      ]
    },
    {
      "cell_type": "code",
      "execution_count": 17,
      "metadata": {},
      "outputs": [],
      "source": [
        "def get_groups(data):\n",
        "    exclude_sugar = False\n",
        "    refined_sugar = False\n",
        "    specialized_diet = False\n",
        "    other_diets = False\n",
        "\n",
        "    list_col = list(data.index)\n",
        "    list_col = [x for x in list_col if x.lower().startswith(\"specialized_diet_\")]\n",
        "    for col in list_col:\n",
        "        if col ==\"specialized_diet_i_do_not_eat_a_specialized_diet\":\n",
        "            if data[col] == \"No\":\n",
        "                specialized_diet = True\n",
        "        if col in diets_without_sugar:\n",
        "            if data[col] == \"Yes\":\n",
        "                exclude_sugar = True\n",
        "        if col == \"specialized_diet_exclude_refined_sugars\":\n",
        "            if data[col] == \"Yes\":\n",
        "                refined_sugar = True\n",
        "        if col not in diets_without_sugar and col != \"specialized_diet_i_do_not_eat_a_specialized_diet\":\n",
        "            if data[col] == \"Yes\":\n",
        "                other_diets = True\n",
        "    \n",
        "    if specialized_diet:\n",
        "        \n",
        "        if exclude_sugar and refined_sugar and not other_diets:\n",
        "            return \"Treatment\"\n",
        "        else:\n",
        "            return \"None\"\n",
        "    \n",
        "    else:\n",
        "        if not exclude_sugar and not refined_sugar and not other_diets:\n",
        "            return \"Control\"\n",
        "        \n",
        "        return \"None\"\n",
        "        "
      ]
    },
    {
      "cell_type": "code",
      "execution_count": 18,
      "metadata": {},
      "outputs": [],
      "source": [
        "data_f['group'] = data_f.apply(get_groups, axis=1)"
      ]
    },
    {
      "attachments": {},
      "cell_type": "markdown",
      "metadata": {},
      "source": [
        "Only 191 subjects have the characteristics to be in the Treatment group"
      ]
    },
    {
      "cell_type": "code",
      "execution_count": 19,
      "metadata": {},
      "outputs": [
        {
          "data": {
            "text/plain": [
              "Control      8089\n",
              "None         1441\n",
              "Treatment     191\n",
              "Name: group, dtype: int64"
            ]
          },
          "execution_count": 19,
          "metadata": {},
          "output_type": "execute_result"
        }
      ],
      "source": [
        "data_f.group.value_counts()"
      ]
    },
    {
      "attachments": {},
      "cell_type": "markdown",
      "metadata": {},
      "source": [
        "Excluding all subjects that are neither in the control or treatment group"
      ]
    },
    {
      "cell_type": "code",
      "execution_count": 20,
      "metadata": {},
      "outputs": [],
      "source": [
        "data_groups = data_f.loc[((data_f.group == \"Control\") | (data_f.group == \"Treatment\"))]"
      ]
    },
    {
      "attachments": {},
      "cell_type": "markdown",
      "metadata": {},
      "source": [
        "Sex distribution in the two groups"
      ]
    },
    {
      "cell_type": "code",
      "execution_count": 21,
      "metadata": {},
      "outputs": [
        {
          "name": "stdout",
          "output_type": "stream",
          "text": [
            "group      sex   \n",
            "Control    female    4159\n",
            "           male      3930\n",
            "Treatment  female     105\n",
            "           male        86\n",
            "Name: sample_name, dtype: int64\n"
          ]
        }
      ],
      "source": [
        "print(data_groups.groupby([\"group\",\"sex\"]).sample_name.nunique())"
      ]
    },
    {
      "attachments": {},
      "cell_type": "markdown",
      "metadata": {},
      "source": [
        "Sex and age distribution in the two groups"
      ]
    },
    {
      "cell_type": "code",
      "execution_count": 22,
      "metadata": {},
      "outputs": [
        {
          "name": "stdout",
          "output_type": "stream",
          "text": [
            "group      sex     age_cat\n",
            "Control    female  20s        561\n",
            "                   30s        925\n",
            "                   40s        981\n",
            "                   50s        957\n",
            "                   60s        735\n",
            "           male    20s        519\n",
            "                   30s        943\n",
            "                   40s        897\n",
            "                   50s        885\n",
            "                   60s        686\n",
            "Treatment  female  20s          5\n",
            "                   30s         34\n",
            "                   40s         20\n",
            "                   50s         23\n",
            "                   60s         23\n",
            "           male    20s         18\n",
            "                   30s         16\n",
            "                   40s         13\n",
            "                   50s         22\n",
            "                   60s         17\n",
            "Name: sample_name, dtype: int64\n"
          ]
        }
      ],
      "source": [
        "print(data_groups.groupby([\"group\",\"sex\",\"age_cat\"]).sample_name.nunique())"
      ]
    },
    {
      "attachments": {},
      "cell_type": "markdown",
      "metadata": {},
      "source": [
        "Average age in the groups"
      ]
    },
    {
      "cell_type": "code",
      "execution_count": 23,
      "metadata": {},
      "outputs": [
        {
          "name": "stdout",
          "output_type": "stream",
          "text": [
            "group      sex   \n",
            "Control    female    45.365711\n",
            "           male      45.274811\n",
            "Treatment  female    47.019047\n",
            "           male      45.151161\n",
            "Name: age_years, dtype: float32\n"
          ]
        },
        {
          "name": "stderr",
          "output_type": "stream",
          "text": [
            "/tmp/ipykernel_35013/672776826.py:1: SettingWithCopyWarning: \n",
            "A value is trying to be set on a copy of a slice from a DataFrame.\n",
            "Try using .loc[row_indexer,col_indexer] = value instead\n",
            "\n",
            "See the caveats in the documentation: https://pandas.pydata.org/pandas-docs/stable/user_guide/indexing.html#returning-a-view-versus-a-copy\n",
            "  data_groups.age_years = data_groups.age_years.astype('float16')\n"
          ]
        }
      ],
      "source": [
        "data_groups.age_years = data_groups.age_years.astype('float16')\n",
        "print(data_groups.groupby([\"group\",\"sex\"]).age_years.mean())"
      ]
    },
    {
      "attachments": {},
      "cell_type": "markdown",
      "metadata": {},
      "source": [
        "Treatment group data"
      ]
    },
    {
      "cell_type": "code",
      "execution_count": 24,
      "metadata": {},
      "outputs": [],
      "source": [
        "data_treatment = data_groups.loc[(data_groups.group == \"Treatment\")]"
      ]
    },
    {
      "attachments": {},
      "cell_type": "markdown",
      "metadata": {},
      "source": [
        "Control group data (selecting only 190 subjects)"
      ]
    },
    {
      "cell_type": "code",
      "execution_count": 25,
      "metadata": {},
      "outputs": [],
      "source": [
        "data_control = data_groups.loc[(data_groups.group == \"Control\") & (data_groups.specialized_diet_exclude_refined_sugars == \"No\")]\n"
      ]
    },
    {
      "cell_type": "code",
      "execution_count": 26,
      "metadata": {},
      "outputs": [
        {
          "data": {
            "text/plain": [
              "Not provided      11341\n",
              "No                 8917\n",
              "Yes                1805\n",
              "Unspecified         187\n",
              "Not applicable       10\n",
              "Name: specialized_diet_exclude_refined_sugars, dtype: int64"
            ]
          },
          "execution_count": 26,
          "metadata": {},
          "output_type": "execute_result"
        }
      ],
      "source": [
        "data.specialized_diet_exclude_refined_sugars.value_counts()"
      ]
    },
    {
      "cell_type": "code",
      "execution_count": 27,
      "metadata": {},
      "outputs": [
        {
          "data": {
            "text/plain": [
              "No    2440\n",
              "Name: specialized_diet_exclude_refined_sugars, dtype: int64"
            ]
          },
          "execution_count": 27,
          "metadata": {},
          "output_type": "execute_result"
        }
      ],
      "source": [
        "data_control.specialized_diet_exclude_refined_sugars.value_counts()"
      ]
    },
    {
      "cell_type": "code",
      "execution_count": 28,
      "metadata": {},
      "outputs": [],
      "source": [
        "data_control = data_control.groupby([\"sex\",\"age_cat\"]).head(19)"
      ]
    },
    {
      "cell_type": "code",
      "execution_count": 29,
      "metadata": {},
      "outputs": [],
      "source": [
        "data_treatment = data_treatment.head(190).reset_index(drop=True)"
      ]
    },
    {
      "attachments": {},
      "cell_type": "markdown",
      "metadata": {},
      "source": [
        "Concatenation of the two groups"
      ]
    },
    {
      "cell_type": "code",
      "execution_count": 30,
      "metadata": {},
      "outputs": [],
      "source": [
        "data_final_groups = pd.concat([data_treatment,data_control]).reset_index(drop=True)"
      ]
    },
    {
      "cell_type": "code",
      "execution_count": 31,
      "metadata": {},
      "outputs": [
        {
          "data": {
            "text/html": [
              "<div>\n",
              "<style scoped>\n",
              "    .dataframe tbody tr th:only-of-type {\n",
              "        vertical-align: middle;\n",
              "    }\n",
              "\n",
              "    .dataframe tbody tr th {\n",
              "        vertical-align: top;\n",
              "    }\n",
              "\n",
              "    .dataframe thead th {\n",
              "        text-align: right;\n",
              "    }\n",
              "</style>\n",
              "<table border=\"1\" class=\"dataframe\">\n",
              "  <thead>\n",
              "    <tr style=\"text-align: right;\">\n",
              "      <th></th>\n",
              "      <th>sample_name</th>\n",
              "      <th>acid_reflux</th>\n",
              "      <th>acne_medication</th>\n",
              "      <th>acne_medication_otc</th>\n",
              "      <th>add_adhd</th>\n",
              "      <th>age_cat</th>\n",
              "      <th>age_corrected</th>\n",
              "      <th>age_years</th>\n",
              "      <th>alcohol_consumption</th>\n",
              "      <th>alcohol_frequency</th>\n",
              "      <th>...</th>\n",
              "      <th>vitamin_b_supplement_frequency</th>\n",
              "      <th>vitamin_d_supplement_frequency</th>\n",
              "      <th>vivid_dreams</th>\n",
              "      <th>weight_cat</th>\n",
              "      <th>weight_change</th>\n",
              "      <th>weight_kg</th>\n",
              "      <th>weight_units</th>\n",
              "      <th>whole_eggs</th>\n",
              "      <th>whole_grain_frequency</th>\n",
              "      <th>group</th>\n",
              "    </tr>\n",
              "  </thead>\n",
              "  <tbody>\n",
              "    <tr>\n",
              "      <th>0</th>\n",
              "      <td>10317.000023139</td>\n",
              "      <td>No</td>\n",
              "      <td>No</td>\n",
              "      <td>No</td>\n",
              "      <td>No</td>\n",
              "      <td>60s</td>\n",
              "      <td>69.0</td>\n",
              "      <td>69.0</td>\n",
              "      <td>Yes</td>\n",
              "      <td>Rarely (a few times/month)</td>\n",
              "      <td>...</td>\n",
              "      <td>Regularly (3-5 times/week)</td>\n",
              "      <td>Daily</td>\n",
              "      <td>Never</td>\n",
              "      <td>NaN</td>\n",
              "      <td>Remained stable</td>\n",
              "      <td>63</td>\n",
              "      <td>kilograms</td>\n",
              "      <td>Regularly (3-5 times/week)</td>\n",
              "      <td>Regularly (3-5 times/week)</td>\n",
              "      <td>Treatment</td>\n",
              "    </tr>\n",
              "    <tr>\n",
              "      <th>1</th>\n",
              "      <td>10317.000027811</td>\n",
              "      <td>No</td>\n",
              "      <td>No</td>\n",
              "      <td>No</td>\n",
              "      <td>No</td>\n",
              "      <td>40s</td>\n",
              "      <td>46.0</td>\n",
              "      <td>46.0</td>\n",
              "      <td>Yes</td>\n",
              "      <td>Rarely (a few times/month)</td>\n",
              "      <td>...</td>\n",
              "      <td>Rarely (a few times/month)</td>\n",
              "      <td>Regularly (3-5 times/week)</td>\n",
              "      <td>Rarely (a few times/month)</td>\n",
              "      <td>NaN</td>\n",
              "      <td>Remained stable</td>\n",
              "      <td>81</td>\n",
              "      <td>kilograms</td>\n",
              "      <td>Occasionally (1-2 times/week)</td>\n",
              "      <td>Rarely (less than once/week)</td>\n",
              "      <td>Treatment</td>\n",
              "    </tr>\n",
              "    <tr>\n",
              "      <th>2</th>\n",
              "      <td>10317.000031513</td>\n",
              "      <td>Self-diagnosed</td>\n",
              "      <td>No</td>\n",
              "      <td>No</td>\n",
              "      <td>Not provided</td>\n",
              "      <td>30s</td>\n",
              "      <td>37.0</td>\n",
              "      <td>37.0</td>\n",
              "      <td>Yes</td>\n",
              "      <td>Regularly (3-5 times/week)</td>\n",
              "      <td>...</td>\n",
              "      <td>Never</td>\n",
              "      <td>Rarely (a few times/month)</td>\n",
              "      <td>Rarely (a few times/month)</td>\n",
              "      <td>NaN</td>\n",
              "      <td>Remained stable</td>\n",
              "      <td>49</td>\n",
              "      <td>kilograms</td>\n",
              "      <td>Occasionally (1-2 times/week)</td>\n",
              "      <td>Rarely (less than once/week)</td>\n",
              "      <td>Treatment</td>\n",
              "    </tr>\n",
              "    <tr>\n",
              "      <th>3</th>\n",
              "      <td>10317.000033280</td>\n",
              "      <td>No</td>\n",
              "      <td>No</td>\n",
              "      <td>No</td>\n",
              "      <td>No</td>\n",
              "      <td>60s</td>\n",
              "      <td>60.0</td>\n",
              "      <td>60.0</td>\n",
              "      <td>Yes</td>\n",
              "      <td>Regularly (3-5 times/week)</td>\n",
              "      <td>...</td>\n",
              "      <td>Never</td>\n",
              "      <td>Never</td>\n",
              "      <td>Never</td>\n",
              "      <td>NaN</td>\n",
              "      <td>Remained stable</td>\n",
              "      <td>68</td>\n",
              "      <td>kilograms</td>\n",
              "      <td>Occasionally (1-2 times/week)</td>\n",
              "      <td>Regularly (3-5 times/week)</td>\n",
              "      <td>Treatment</td>\n",
              "    </tr>\n",
              "    <tr>\n",
              "      <th>4</th>\n",
              "      <td>10317.000038261</td>\n",
              "      <td>No</td>\n",
              "      <td>No</td>\n",
              "      <td>No</td>\n",
              "      <td>No</td>\n",
              "      <td>40s</td>\n",
              "      <td>48.0</td>\n",
              "      <td>48.0</td>\n",
              "      <td>Yes</td>\n",
              "      <td>Regularly (3-5 times/week)</td>\n",
              "      <td>...</td>\n",
              "      <td>Never</td>\n",
              "      <td>Never</td>\n",
              "      <td>Occasionally (1-2 times/week)</td>\n",
              "      <td>NaN</td>\n",
              "      <td>Remained stable</td>\n",
              "      <td>70</td>\n",
              "      <td>kilograms</td>\n",
              "      <td>Rarely (less than once/week)</td>\n",
              "      <td>Occasionally (1-2 times/week)</td>\n",
              "      <td>Treatment</td>\n",
              "    </tr>\n",
              "    <tr>\n",
              "      <th>...</th>\n",
              "      <td>...</td>\n",
              "      <td>...</td>\n",
              "      <td>...</td>\n",
              "      <td>...</td>\n",
              "      <td>...</td>\n",
              "      <td>...</td>\n",
              "      <td>...</td>\n",
              "      <td>...</td>\n",
              "      <td>...</td>\n",
              "      <td>...</td>\n",
              "      <td>...</td>\n",
              "      <td>...</td>\n",
              "      <td>...</td>\n",
              "      <td>...</td>\n",
              "      <td>...</td>\n",
              "      <td>...</td>\n",
              "      <td>...</td>\n",
              "      <td>...</td>\n",
              "      <td>...</td>\n",
              "      <td>...</td>\n",
              "      <td>...</td>\n",
              "    </tr>\n",
              "    <tr>\n",
              "      <th>375</th>\n",
              "      <td>10317.000065667</td>\n",
              "      <td>No</td>\n",
              "      <td>No</td>\n",
              "      <td>No</td>\n",
              "      <td>No</td>\n",
              "      <td>20s</td>\n",
              "      <td>22.0</td>\n",
              "      <td>22.0</td>\n",
              "      <td>Yes</td>\n",
              "      <td>Occasionally (1-2 times/week)</td>\n",
              "      <td>...</td>\n",
              "      <td>Never</td>\n",
              "      <td>Never</td>\n",
              "      <td>Rarely (a few times/month)</td>\n",
              "      <td>NaN</td>\n",
              "      <td>Remained stable</td>\n",
              "      <td>61</td>\n",
              "      <td>kilograms</td>\n",
              "      <td>Regularly (3-5 times/week)</td>\n",
              "      <td>Never</td>\n",
              "      <td>Control</td>\n",
              "    </tr>\n",
              "    <tr>\n",
              "      <th>376</th>\n",
              "      <td>10317.000065673</td>\n",
              "      <td>No</td>\n",
              "      <td>No</td>\n",
              "      <td>Yes</td>\n",
              "      <td>No</td>\n",
              "      <td>20s</td>\n",
              "      <td>20.0</td>\n",
              "      <td>20.0</td>\n",
              "      <td>No</td>\n",
              "      <td>Never</td>\n",
              "      <td>...</td>\n",
              "      <td>Never</td>\n",
              "      <td>Never</td>\n",
              "      <td>Occasionally (1-2 times/week)</td>\n",
              "      <td>NaN</td>\n",
              "      <td>Remained stable</td>\n",
              "      <td>79</td>\n",
              "      <td>kilograms</td>\n",
              "      <td>Never</td>\n",
              "      <td>Rarely (less than once/week)</td>\n",
              "      <td>Control</td>\n",
              "    </tr>\n",
              "    <tr>\n",
              "      <th>377</th>\n",
              "      <td>10317.000065675</td>\n",
              "      <td>No</td>\n",
              "      <td>No</td>\n",
              "      <td>No</td>\n",
              "      <td>No</td>\n",
              "      <td>20s</td>\n",
              "      <td>21.0</td>\n",
              "      <td>21.0</td>\n",
              "      <td>No</td>\n",
              "      <td>Never</td>\n",
              "      <td>...</td>\n",
              "      <td>Never</td>\n",
              "      <td>Never</td>\n",
              "      <td>Daily</td>\n",
              "      <td>NaN</td>\n",
              "      <td>Remained stable</td>\n",
              "      <td>51</td>\n",
              "      <td>kilograms</td>\n",
              "      <td>Never</td>\n",
              "      <td>Regularly (3-5 times/week)</td>\n",
              "      <td>Control</td>\n",
              "    </tr>\n",
              "    <tr>\n",
              "      <th>378</th>\n",
              "      <td>10317.000065681</td>\n",
              "      <td>No</td>\n",
              "      <td>No</td>\n",
              "      <td>Yes</td>\n",
              "      <td>No</td>\n",
              "      <td>20s</td>\n",
              "      <td>21.0</td>\n",
              "      <td>21.0</td>\n",
              "      <td>No</td>\n",
              "      <td>Never</td>\n",
              "      <td>...</td>\n",
              "      <td>Never</td>\n",
              "      <td>Never</td>\n",
              "      <td>Rarely (a few times/month)</td>\n",
              "      <td>NaN</td>\n",
              "      <td>Remained stable</td>\n",
              "      <td>137</td>\n",
              "      <td>kilograms</td>\n",
              "      <td>Rarely (less than once/week)</td>\n",
              "      <td>Rarely (less than once/week)</td>\n",
              "      <td>Control</td>\n",
              "    </tr>\n",
              "    <tr>\n",
              "      <th>379</th>\n",
              "      <td>10317.000065684</td>\n",
              "      <td>No</td>\n",
              "      <td>No</td>\n",
              "      <td>No</td>\n",
              "      <td>No</td>\n",
              "      <td>20s</td>\n",
              "      <td>20.0</td>\n",
              "      <td>20.0</td>\n",
              "      <td>No</td>\n",
              "      <td>Never</td>\n",
              "      <td>...</td>\n",
              "      <td>Rarely (a few times/month)</td>\n",
              "      <td>Occasionally (1-2 times/week)</td>\n",
              "      <td>Rarely (a few times/month)</td>\n",
              "      <td>NaN</td>\n",
              "      <td>Remained stable</td>\n",
              "      <td>58</td>\n",
              "      <td>kilograms</td>\n",
              "      <td>Rarely (less than once/week)</td>\n",
              "      <td>Regularly (3-5 times/week)</td>\n",
              "      <td>Control</td>\n",
              "    </tr>\n",
              "  </tbody>\n",
              "</table>\n",
              "<p>380 rows × 661 columns</p>\n",
              "</div>"
            ],
            "text/plain": [
              "         sample_name     acid_reflux acne_medication acne_medication_otc  \\\n",
              "0    10317.000023139              No              No                  No   \n",
              "1    10317.000027811              No              No                  No   \n",
              "2    10317.000031513  Self-diagnosed              No                  No   \n",
              "3    10317.000033280              No              No                  No   \n",
              "4    10317.000038261              No              No                  No   \n",
              "..               ...             ...             ...                 ...   \n",
              "375  10317.000065667              No              No                  No   \n",
              "376  10317.000065673              No              No                 Yes   \n",
              "377  10317.000065675              No              No                  No   \n",
              "378  10317.000065681              No              No                 Yes   \n",
              "379  10317.000065684              No              No                  No   \n",
              "\n",
              "         add_adhd age_cat age_corrected  age_years alcohol_consumption  \\\n",
              "0              No     60s          69.0       69.0                 Yes   \n",
              "1              No     40s          46.0       46.0                 Yes   \n",
              "2    Not provided     30s          37.0       37.0                 Yes   \n",
              "3              No     60s          60.0       60.0                 Yes   \n",
              "4              No     40s          48.0       48.0                 Yes   \n",
              "..            ...     ...           ...        ...                 ...   \n",
              "375            No     20s          22.0       22.0                 Yes   \n",
              "376            No     20s          20.0       20.0                  No   \n",
              "377            No     20s          21.0       21.0                  No   \n",
              "378            No     20s          21.0       21.0                  No   \n",
              "379            No     20s          20.0       20.0                  No   \n",
              "\n",
              "                 alcohol_frequency  ... vitamin_b_supplement_frequency  \\\n",
              "0       Rarely (a few times/month)  ...     Regularly (3-5 times/week)   \n",
              "1       Rarely (a few times/month)  ...     Rarely (a few times/month)   \n",
              "2       Regularly (3-5 times/week)  ...                          Never   \n",
              "3       Regularly (3-5 times/week)  ...                          Never   \n",
              "4       Regularly (3-5 times/week)  ...                          Never   \n",
              "..                             ...  ...                            ...   \n",
              "375  Occasionally (1-2 times/week)  ...                          Never   \n",
              "376                          Never  ...                          Never   \n",
              "377                          Never  ...                          Never   \n",
              "378                          Never  ...                          Never   \n",
              "379                          Never  ...     Rarely (a few times/month)   \n",
              "\n",
              "    vitamin_d_supplement_frequency                   vivid_dreams weight_cat  \\\n",
              "0                            Daily                          Never        NaN   \n",
              "1       Regularly (3-5 times/week)     Rarely (a few times/month)        NaN   \n",
              "2       Rarely (a few times/month)     Rarely (a few times/month)        NaN   \n",
              "3                            Never                          Never        NaN   \n",
              "4                            Never  Occasionally (1-2 times/week)        NaN   \n",
              "..                             ...                            ...        ...   \n",
              "375                          Never     Rarely (a few times/month)        NaN   \n",
              "376                          Never  Occasionally (1-2 times/week)        NaN   \n",
              "377                          Never                          Daily        NaN   \n",
              "378                          Never     Rarely (a few times/month)        NaN   \n",
              "379  Occasionally (1-2 times/week)     Rarely (a few times/month)        NaN   \n",
              "\n",
              "       weight_change weight_kg weight_units                     whole_eggs  \\\n",
              "0    Remained stable        63    kilograms     Regularly (3-5 times/week)   \n",
              "1    Remained stable        81    kilograms  Occasionally (1-2 times/week)   \n",
              "2    Remained stable        49    kilograms  Occasionally (1-2 times/week)   \n",
              "3    Remained stable        68    kilograms  Occasionally (1-2 times/week)   \n",
              "4    Remained stable        70    kilograms   Rarely (less than once/week)   \n",
              "..               ...       ...          ...                            ...   \n",
              "375  Remained stable        61    kilograms     Regularly (3-5 times/week)   \n",
              "376  Remained stable        79    kilograms                          Never   \n",
              "377  Remained stable        51    kilograms                          Never   \n",
              "378  Remained stable       137    kilograms   Rarely (less than once/week)   \n",
              "379  Remained stable        58    kilograms   Rarely (less than once/week)   \n",
              "\n",
              "             whole_grain_frequency      group  \n",
              "0       Regularly (3-5 times/week)  Treatment  \n",
              "1     Rarely (less than once/week)  Treatment  \n",
              "2     Rarely (less than once/week)  Treatment  \n",
              "3       Regularly (3-5 times/week)  Treatment  \n",
              "4    Occasionally (1-2 times/week)  Treatment  \n",
              "..                             ...        ...  \n",
              "375                          Never    Control  \n",
              "376   Rarely (less than once/week)    Control  \n",
              "377     Regularly (3-5 times/week)    Control  \n",
              "378   Rarely (less than once/week)    Control  \n",
              "379     Regularly (3-5 times/week)    Control  \n",
              "\n",
              "[380 rows x 661 columns]"
            ]
          },
          "execution_count": 31,
          "metadata": {},
          "output_type": "execute_result"
        }
      ],
      "source": [
        "data_final_groups"
      ]
    },
    {
      "attachments": {},
      "cell_type": "markdown",
      "metadata": {},
      "source": [
        "Saving the dataframe with all needed info"
      ]
    },
    {
      "cell_type": "code",
      "execution_count": 32,
      "metadata": {},
      "outputs": [],
      "source": [
        "data_final_groups.to_csv(\"data_final_groups.csv\")"
      ]
    }
  ],
  "metadata": {
    "colab": {
      "provenance": []
    },
    "kernelspec": {
      "display_name": "Python 3",
      "language": "python",
      "name": "python3"
    },
    "language_info": {
      "codemirror_mode": {
        "name": "ipython",
        "version": 3
      },
      "file_extension": ".py",
      "mimetype": "text/x-python",
      "name": "python",
      "nbconvert_exporter": "python",
      "pygments_lexer": "ipython3",
      "version": "3.11.3"
    }
  },
  "nbformat": 4,
  "nbformat_minor": 0
}
